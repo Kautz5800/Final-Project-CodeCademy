{
 "cells": [
  {
   "cell_type": "code",
   "execution_count": 1,
   "metadata": {},
   "outputs": [],
   "source": [
    "# key only dict for the Tic-tac-toe\n",
    "class Game:\n",
    "    def __init__(self):\n",
    "      self.game_field = {1:\"\", 2:\"\", 3:\"\", 4:\"\", 5:\"\",6:\"\",7:\"\",8:\"\",9:\"\",}\n",
    "\n",
    "class Player:\n",
    "    counter = 1\n",
    "\n",
    "    def __init__(self):\n",
    "      self.player_symbol = \"\"\n",
    "      self.player_name = self.set_name()\n",
    "      self.player_symbol = self.set_symbol()\n",
    "      Player.counter += 1\n",
    "  \n",
    "    def set_name(self):\n",
    "      result = input(\"Player \" + str(Player.counter) + \" choose your player name (only alphanumeric): \")  \n",
    "      while True:\n",
    "        #Testing if Input okay\n",
    "        if len(result) == 0:\n",
    "          result = input(\"Input cannot be empty. Please enter a string: \")\n",
    "          continue\n",
    "\n",
    "        if not result.isalnum():\n",
    "          #checking input\n",
    "          result = input(\"Input cannot be non-alphanumeric. Please enter a string: \")\n",
    "          continue\n",
    "        else:\n",
    "          #Value is okay \n",
    "          break  \n",
    "      return result\n",
    "\n",
    "    def set_symbol(self):\n",
    "      result = input(input(\"Player \" + self.player_name + \" please enter a single letter as your Symbol: \"))\n",
    "      #Testing if Input okay\n",
    "      while True:\n",
    "        if not result.isalpha() or not len(result) == 1:\n",
    "          #checking input\n",
    "          result = input(\"Input cannot be non-alpha or contain more than one character. Please enter a letter: \")\n",
    "          continue\n",
    "        else:\n",
    "          #Value is okay\n",
    "          break  \n",
    "      return result\n",
    "\n",
    "player_one = Player()\n",
    "player_two = Player()\n",
    "\n",
    "print(\"\")\n",
    "print(\"Player1\")\n",
    "print(player_one.player_name)\n",
    "print(player_one.player_symbol)\n",
    "print(\"\")\n",
    "print(\"Player2\")\n",
    "print(player_two.player_name)\n",
    "print(player_two.player_symbol)\n"
   ]
  }
 ],
 "metadata": {
  "kernelspec": {
   "display_name": "Python 3.10.6 64-bit",
   "language": "python",
   "name": "python3"
  },
  "language_info": {
   "codemirror_mode": {
    "name": "ipython",
    "version": 3
   },
   "file_extension": ".py",
   "mimetype": "text/x-python",
   "name": "python",
   "nbconvert_exporter": "python",
   "pygments_lexer": "ipython3",
   "version": "3.10.6"
  },
  "orig_nbformat": 4,
  "vscode": {
   "interpreter": {
    "hash": "d91a6190409b2a66dcfb1139869e566dfd865fe72194959206632c20b916abf4"
   }
  }
 },
 "nbformat": 4,
 "nbformat_minor": 2
}
