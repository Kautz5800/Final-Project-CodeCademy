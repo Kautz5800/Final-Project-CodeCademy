{
 "cells": [
  {
   "cell_type": "code",
   "execution_count": 1,
   "metadata": {},
   "outputs": [
    {
     "ename": "SyntaxError",
     "evalue": "expression expected after dictionary key and ':' (2111343922.py, line 2)",
     "output_type": "error",
     "traceback": [
      "\u001b[1;36m  Cell \u001b[1;32mIn [1], line 2\u001b[1;36m\u001b[0m\n\u001b[1;33m    field = {1:\"\", 2:,\"\", 3:\"\", 4:\"\", 5:\"\",6:\"\",7:\"\",8:\"\",9:\"\",}\u001b[0m\n\u001b[1;37m                    ^\u001b[0m\n\u001b[1;31mSyntaxError\u001b[0m\u001b[1;31m:\u001b[0m expression expected after dictionary key and ':'\n"
     ]
    }
   ],
   "source": [
    "# key only dict for the Tic-tac-toe\n",
    "field = {1:\"\", 2:,\"\", 3:\"\", 4:\"\", 5:\"\",6:\"\",7:\"\",8:\"\",9:\"\",}\n",
    "\n",
    "class Player:\n",
    "    def __init__(self):\n",
    "      self.player_symbol = \"\"\n",
    "      self.player_name = Input(\"Player choose your Name:\")\n",
    "    \n",
    "    def player_symbols():\n",
    "      input(\"Player 1 choose your Symbol: \")\n",
    "\n",
    "\n",
    "player_one = Player()\n",
    "\n",
    "print(player_one.player_name)"
   ]
  }
 ],
 "metadata": {
  "kernelspec": {
   "display_name": "Python 3.10.6 64-bit",
   "language": "python",
   "name": "python3"
  },
  "language_info": {
   "codemirror_mode": {
    "name": "ipython",
    "version": 3
   },
   "file_extension": ".py",
   "mimetype": "text/x-python",
   "name": "python",
   "nbconvert_exporter": "python",
   "pygments_lexer": "ipython3",
   "version": "3.10.6"
  },
  "orig_nbformat": 4,
  "vscode": {
   "interpreter": {
    "hash": "d91a6190409b2a66dcfb1139869e566dfd865fe72194959206632c20b916abf4"
   }
  }
 },
 "nbformat": 4,
 "nbformat_minor": 2
}
